{
 "cells": [
  {
   "attachments": {},
   "cell_type": "markdown",
   "metadata": {},
   "source": [
    "# Problem Set\n",
    "[![Open In Colab](https://colab.research.google.com/assets/colab-badge.svg)](https://colab.research.google.com/github/HesusG/python-decision-making-support-analysis/blob/main/module_1/problem_set.ipynb)"
   ]
  },
  {
   "attachments": {},
   "cell_type": "markdown",
   "metadata": {},
   "source": [
    "## Problem Set Introduction \n",
    "\n",
    "Welcome to the Linear Programming Problem Set! 🙌\n",
    "\n",
    "This set consists of three bi-dimensional linear programming problems that require the application of a systematic six-step approach. These steps include:\n",
    "\n",
    "1. Identify the objective 🎯\n",
    "2. Specify decision variables ✏️\n",
    "3. Formulate the objective function 📋\n",
    "4. Define constraints ⛓️\n",
    "5. Consider hidden conditions 🔍\n",
    "6. Formulate the complete model ⚙️\n",
    "\n",
    "To solve these problems effectively, it is recommended to use Python, a powerful programming language that offers various libraries and solvers for linear programming. 🐍 Make sure to include code implementation for each problem to validate your results. 💻\n",
    "\n",
    "Remember to document your thought process, assumptions, and code implementation. This will aid in understanding the problem-solving approach and serve as a valuable reference.\n",
    "\n",
    "Let's begin solving these bi-dimensional linear programming problems using the six-step methodology and Python programming. Good luck and enjoy the problem-solving journey! 😄\n",
    "\n",
    "\n",
    "![Random Giphy](https://media.giphy.com/media/Ws6T5PN7wHv3cY8xy8/giphy.gif)\n",
    "\n",
    "* Remember to use the following code to install pulp in your notebook and make sure to load it by using import."
   ]
  },
  {
   "cell_type": "code",
   "execution_count": null,
   "metadata": {},
   "outputs": [],
   "source": [
    "!pip install pulp"
   ]
  },
  {
   "cell_type": "code",
   "execution_count": null,
   "metadata": {},
   "outputs": [],
   "source": [
    "from pulp import *"
   ]
  },
  {
   "attachments": {},
   "cell_type": "markdown",
   "metadata": {},
   "source": [
    "## Problem 1\n",
    "A company manufactures and sells two types of hydraulic pumps: 1) Normal and 2) Heavy-duty. The production process for the pumps consists of three activities: assembly, painting, and testing (quality control), with their respective times listed in the table below. The profit contribution from selling a normal pump is $50, while a heavy-duty pump yields a profit of $75. There are 4800 hours available per week for assembly, 1980 hours for painting, and 900 hours for quality testing. Based on past experiences, the company expects to sell 300 normal pumps and 180 heavy-duty pumps. The manager is interested in determining the quantity of pumps to manufacture weekly in order to maximize profits."
   ]
  },
  {
   "attachments": {},
   "cell_type": "markdown",
   "metadata": {},
   "source": [
    "|    Type     | Assembly Time | Painting Time | Testing Time |\n",
    "|-------------|---------------|---------------|--------------|\n",
    "|   Normal    |      3.6      |      1.6      |     0.6      |\n",
    "|   Heavy-duty |      4.8      |      1.8      |     0.6      |\n"
   ]
  },
  {
   "cell_type": "code",
   "execution_count": null,
   "metadata": {},
   "outputs": [],
   "source": [
    "# Your code goes here"
   ]
  },
  {
   "attachments": {},
   "cell_type": "markdown",
   "metadata": {},
   "source": [
    "## Problem 2\n",
    " A company is interested in developing a fertilizer that contains a minimum of 100 units of potassium, 25 units of nitrogen, and 10 units of ammonia. For this purpose, they have products A and B, which cost 10 and 15 euros per ton in the market, respectively. The content of potassium, nitrogen, and ammonia per ton of product is shown in the following table.\n",
    "\n",
    "Develop the formulation of the new fertilizer taking into consideration that it is desired for the fertilizer to cost as little as possible.\n"
   ]
  },
  {
   "attachments": {},
   "cell_type": "markdown",
   "metadata": {},
   "source": [
    "|      | POTASSIUM | NITROGEN | AMMONIA |\n",
    "|---------|------------|----------|---------|\n",
    "| Product A |      2       |      0.3     |     0.2    |\n",
    "| Product B |      1       |      0.6     |     0.2    |\n"
   ]
  },
  {
   "cell_type": "code",
   "execution_count": null,
   "metadata": {},
   "outputs": [],
   "source": [
    "# Your code goes here"
   ]
  },
  {
   "attachments": {},
   "cell_type": "markdown",
   "metadata": {},
   "source": [
    "## Problem 3\n",
    "A bakery is famous for its two specialties: the imperial cake and the lime cake. The imperial cake requires half a kilogram of sugar and eight eggs, and it is sold for eight dollars. The lime cake requires one kilogram of sugar and eight eggs, and it is sold for ten dollars. In the warehouse, there are only ten kilograms of sugar and one hundred twenty eggs. What combination of these specialties can be made?"
   ]
  },
  {
   "attachments": {},
   "cell_type": "markdown",
   "metadata": {},
   "source": [
    "|            | Sugar (kilogram) | Eggs | Price |\n",
    "|------------|-----------------|------|-------|\n",
    "| Imperial Cake |      0.5        |   8   |  $ 8   |\n",
    "| Lime Cake   |        1          |   8   | $ 10  |\n"
   ]
  },
  {
   "cell_type": "code",
   "execution_count": null,
   "metadata": {},
   "outputs": [],
   "source": [
    "# Your code goes here"
   ]
  }
 ],
 "metadata": {
  "language_info": {
   "name": "python"
  },
  "orig_nbformat": 4
 },
 "nbformat": 4,
 "nbformat_minor": 2
}
