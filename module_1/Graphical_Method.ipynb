{
 "cells": [
  {
   "attachments": {},
   "cell_type": "markdown",
   "metadata": {},
   "source": [
    "# Graphical Method\n",
    "\n",
    "In this section, we will explore different techniques for solving LP problems, with a specific focus on the graphical method and other solvers. Linear programming is a powerful mathematical approach used to optimize objective functions while satisfying a set of linear constraints. By understanding and applying these methods, you'll be equipped to tackle real-world optimization challenges efficiently.\n",
    "\n",
    "[![Open In Colab](https://colab.research.google.com/assets/colab-badge.svg)](https://colab.research.google.com/github/HesusG/python-decision-making-support-analysis/blob/main/Graphical_Method.ipynb)"
   ]
  },
  {
   "attachments": {},
   "cell_type": "markdown",
   "metadata": {},
   "source": [
    "## Content Table\n",
    "\n",
    "1. [Understanding LP Constraints](#understanding-lp-constraints)\n",
    "2. [Graphical Method Overview](#graphical-method-overview)\n",
    "3. [Graphical Method Steps](#graphical-method-steps)\n",
    "4. [Graphical Method Limitations](#grapical-method-limitations)\n"
   ]
  },
  {
   "attachments": {},
   "cell_type": "markdown",
   "metadata": {},
   "source": [
    "# Understanding LP Constraints"
   ]
  },
  {
   "attachments": {},
   "cell_type": "markdown",
   "metadata": {},
   "source": [
    "In linear programming (LP), constraints play a crucial role in defining the feasible solutions for an optimization problem. Constraints establish limitations or conditions that the decision variables must satisfy.\n",
    "\n",
    "When formulating an LP problem, it is essential to carefully define the constraints based on the problem's requirements and constraints in the real-world context. Constraints can represent limitations on resources, production capacities, budget constraints, and more.\n",
    "\n",
    "The constraints are typically expressed as **linear equations or inequalities involving the decision variables.** These equations or inequalities define the boundaries within which the variables must operate to ensure the problem's objectives are met while adhering to the given limitations.\n",
    "\n",
    "In the subsequent sections, we will explore different methods, including the graphical method and other solvers, to solve LP problems by considering and manipulating these constraints effectively.\n"
   ]
  },
  {
   "attachments": {},
   "cell_type": "markdown",
   "metadata": {},
   "source": [
    "The Brewery example provides a practical context to understand constraints in the context of linear programming (LP). Imagine a brewery that produces ale and beer using limited resources, such as corn, hops, and malt. The producer needs to decide how many barrels of ale and beer to produce in the next cycle while considering the available resources and maximizing profit."
   ]
  },
  {
   "attachments": {},
   "cell_type": "markdown",
   "metadata": {},
   "source": [
    "<p align=\"center\">\n",
    "  <img src=\"img/problem_1_1.png\" alt=\"img2\">\n",
    "</p>\n"
   ]
  },
  {
   "attachments": {},
   "cell_type": "markdown",
   "metadata": {},
   "source": [
    "🎉 Attention, all brilliant minds and aspiring geniuses in the class! 🎉\n",
    "\n",
    "It's time for the most eagerly awaited segment of our session: Question Time! 🙌🎓\n",
    "Remember, there are no wrong answers here—only opportunities to unleash your genius upon the world.\n",
    "\n",
    "![question](https://media.giphy.com/media/E1UU9Bercy12KoZMij/giphy.gif)\n",
    "\n",
    "<details>\n",
    "<summary>Truth or False ? The feasible region defines all possible values for the decision variables (x_1,x_2,x_3,…x_N) that together satisfy all the constraints. </summary><br>\n",
    "Truth: Discover the mystery of the feasible region, where variables play by the rules of constraints. In this special place, all values come together, meeting the requirements and revealing valid solutions. Embrace this wonder, for it holds the secret to unlocking mathematical harmony!\n",
    "</details>\n"
   ]
  },
  {
   "attachments": {},
   "cell_type": "markdown",
   "metadata": {},
   "source": [
    "# Working with two-dimensionality"
   ]
  },
  {
   "attachments": {},
   "cell_type": "markdown",
   "metadata": {},
   "source": [
    "Let's explore the concept of two-dimensionality and why we can plot two dimensions in linear problems in a simpler manner.\n",
    "\n",
    "Imagine you have a linear problem that involves two decision variables, let's call them x and y. These variables represent quantities or values that we want to determine in order to optimize the objective of the problem. When we have only two variables, we can visualize their relationship on a two-dimensional graph.\n",
    "\n",
    "In a two-dimensional space, we can assign one variable to the x-axis and the other variable to the y-axis. The values of x and y are plotted as points on this graph. Each point represents a specific combination of x and y values. For example, if x = 3 and y = 5, we would plot a point at coordinates (3, 5) on the graph."
   ]
  },
  {
   "cell_type": "code",
   "execution_count": 7,
   "metadata": {},
   "outputs": [
    {
     "data": {
      "image/png": "[encoded data removed]",
      "text/plain": [
       "<Figure size 640x480 with 1 Axes>"
      ]
     },
     "metadata": {},
     "output_type": "display_data"
    }
   ],
   "source": [
    "import matplotlib.pyplot as plt\n",
    "\n",
    "# Define the variables\n",
    "x = [3]\n",
    "y = [5]\n",
    "\n",
    "# Plot the point\n",
    "plt.plot(x, y, 'ro') \n",
    "# 'r' represents the color of the marker, in this case, 'r' stands for red.\n",
    "#'o' represents the shape of the marker, in this case, 'o' stands for a circle \n",
    "\n",
    "# Set plot labels and limits\n",
    "plt.xlabel('x')\n",
    "plt.ylabel('y')\n",
    "plt.title('Two-Dimensional Plot')\n",
    "plt.xlim(0, 10)\n",
    "plt.ylim(0, 10)\n",
    "\n",
    "# Show the plot\n",
    "plt.show()"
   ]
  },
  {
   "attachments": {},
   "cell_type": "markdown",
   "metadata": {},
   "source": [
    "Maximize: $$13x + 23y$$"
   ]
  },
  {
   "attachments": {},
   "cell_type": "markdown",
   "metadata": {},
   "source": [
    "Subject to:\n",
    "$$5x + 15y \\leq 480$$\n",
    "$$4x + 4y \\leq 160$$\n",
    "$$35 + 20y \\leq 1190$$\n",
    "$$x \\geq 0$$\n",
    "$$y \\geq 0$$\n"
   ]
  },
  {
   "attachments": {},
   "cell_type": "markdown",
   "metadata": {},
   "source": []
  },
  {
   "attachments": {},
   "cell_type": "markdown",
   "metadata": {},
   "source": [
    "$$4x + 4y \\leq 160$$"
   ]
  },
  {
   "attachments": {},
   "cell_type": "markdown",
   "metadata": {},
   "source": [
    "To find two points on the line defined by the constraint, we will substitute x = 0 and y = 0 into the equation.\n",
    "\n",
    "For x = 0:\n",
    "$$4(0) + 4y \\leq 160$$\n",
    "$$4y \\leq 160$$\n",
    "$$y \\leq \\frac{160}{4}$$\n",
    "$$y \\leq 40$$\n",
    "\n",
    "Thus, one point is (0, 40).\n",
    "\n",
    "For y = 0:\n",
    "$$4x + 4(0) \\leq 160$$\n",
    "$$4x \\leq 160$$\n",
    "$$x \\leq \\frac{160}{4}$$\n",
    "$$x \\leq 40$$\n",
    "\n",
    "Therefore, another point is (40, 0)."
   ]
  },
  {
   "cell_type": "code",
   "execution_count": 8,
   "metadata": {},
   "outputs": [
    {
     "data": {
      "image/png": "[encoded data removed]",
      "text/plain": [
       "<Figure size 640x480 with 1 Axes>"
      ]
     },
     "metadata": {},
     "output_type": "display_data"
    }
   ],
   "source": [
    "import matplotlib.pyplot as plt\n",
    "\n",
    "# Define the points\n",
    "x = [0, 40]\n",
    "y = [40, 0]\n",
    "\n",
    "# Plot the points\n",
    "plt.plot(x, y, 'ro')\n",
    "\n",
    "# Set plot labels and limits\n",
    "plt.xlabel('x')\n",
    "plt.ylabel('y')\n",
    "plt.title('Feasible Region Points')\n",
    "plt.xlim(-10, 50)\n",
    "plt.ylim(-10, 50)\n",
    "\n",
    "# Show the plot\n",
    "plt.show()"
   ]
  },
  {
   "attachments": {},
   "cell_type": "markdown",
   "metadata": {},
   "source": [
    "To calculate the y-values for the constraint line, we use the formula:\n",
    "\n",
    "$$y_{\\text{constraint}} = \\frac{{160 - 4 \\cdot x_{\\text{constraint}}}}{4}$$\n",
    "\n",
    "where:\n",
    "- $x_{\\text{constraint}}$ represents the x-values of the constraint line, and\n",
    "- $y_{\\text{constraint}}$ represents the corresponding y-values.\n",
    "\n",
    "By substituting the values of $x_{\\text{constraint}}$ into this formula, we obtain the y-values for the constraint line.\n"
   ]
  },
  {
   "cell_type": "code",
   "execution_count": 12,
   "metadata": {},
   "outputs": [
    {
     "data": {
      "image/png": "[encoded data removed]",
      "text/plain": [
       "<Figure size 640x480 with 1 Axes>"
      ]
     },
     "metadata": {},
     "output_type": "display_data"
    }
   ],
   "source": [
    "import numpy as np\n",
    "import matplotlib.pyplot as plt\n",
    "\n",
    "# Define the points\n",
    "x_points = [0, 40]\n",
    "y_points = [40, 0]\n",
    "\n",
    "# Define the x values for the constraint line\n",
    "x_constraint = np.linspace(-10, 50, 100)\n",
    "\n",
    "# Calculate the y values for the constraint line\n",
    "y_constraint = (160 - 4 * x_constraint) / 4\n",
    "\n",
    "# Plot the points and constraint line\n",
    "plt.plot(x_points, y_points, 'ro', label='Points')\n",
    "plt.plot(x_constraint, y_constraint, 'b-', label='4x + 4y ≤ 160')\n",
    "\n",
    "# Set plot labels and legend\n",
    "plt.xlabel('x')\n",
    "plt.ylabel('y')\n",
    "plt.title('Feasible Region and Constraint')\n",
    "plt.legend()\n",
    "\n",
    "# Set plot limits\n",
    "plt.xlim(-10, 50)\n",
    "plt.ylim(-10, 50)\n",
    "\n",
    "# Show the plot\n",
    "plt.grid(True)\n",
    "plt.show()"
   ]
  },
  {
   "attachments": {},
   "cell_type": "markdown",
   "metadata": {},
   "source": [
    "Let's consider the constraint $$4x + 4y \\leq 160$$ and explore a few examples to illustrate how the values below the curve satisfy the constraint.\n",
    "\n",
    "**Example 1:**\n",
    "Let's take the point $$(x = 10, y = 30)$$. \n",
    "If we substitute these values into the constraint, we have:\n",
    "$$4 \\times 10 + 4 \\times 30 = 40 + 120 = 160$$\n",
    "Since the sum of 4 times x and 4 times y equals 160, this point satisfies the constraint.\n",
    "\n",
    "**Example 2:**\n",
    "Consider the point $$(x = 20, y = 20)$$. Plugging these values into the constraint, we get:\n",
    "$$4 \\times 20 + 4 \\times 20 = 80 + 80 = 160$$\n",
    "Again, the sum of 4 times x and 4 times y is 160, indicating that this point satisfies the constraint.\n",
    "\n",
    "**Example 3:**\n",
    "Now, let's examine the point $$(x = 40, y = 0)$$\n",
    "Substituting these values into the constraint, we have:\n",
    "$$4 \\times 40 + 4 \\times 0 = 160 + 0 = 160$$ \n",
    "\n",
    "Once again, the sum of 4 times x and 4 times y equals 160, confirming that this point satisfies the constraint.\n",
    "\n",
    "In each example, the values of x and y are chosen in such a way that the sum of 4 times x and 4 times y is less than or equal to 160, which satisfies the constraint $$4x + 4y \\leq 160$$ Therefore, all the points below the curve (the line representing the constraint) in the graph would satisfy the constraint.\n",
    "\n",
    "It's important to note that these examples are just a few instances that demonstrate how specific values satisfy the constraint. The feasible region consists of all the points below the curve, encompassing an infinite number of possible combinations of x and y values that meet the constraint criteria.\n"
   ]
  },
  {
   "attachments": {},
   "cell_type": "markdown",
   "metadata": {},
   "source": [
    "## Quick Break!\n",
    "\n",
    "Did you know? Smiling can actually improve your mood and reduce stress. So, let's take a moment to put a smile on your face with a fun fact:\n",
    "\n",
    "Fun Fact: Did you know that cats sleep for an average of 12-16 hours a day? They sure know how to get their beauty rest!\n",
    "\n",
    "Now that we've had a little break, let's get back to our learning journey. Remember, small moments of joy can make a big difference in your day! So, let's continue with enthusiasm and tackle the upcoming topics. You're doing fantastic!\n",
    "\n",
    "Here's a motivational gif to keep you inspired:\n",
    "\n",
    "![cat](https://media.giphy.com/media/PibhPmQYXZ7HO/giphy.gif)\n",
    "\n",
    "Let's dive right back in and make the most of our time together. You're on the path to success!\n"
   ]
  },
  {
   "attachments": {},
   "cell_type": "markdown",
   "metadata": {},
   "source": [
    "Which of the following statement is NOT true?\n",
    "\n",
    "\n",
    "(a) The feasible region is the set of all values of the decision variables that satisfies the constraints.\n",
    "\n",
    "(b) The feasible region is the set of all optimal values of the decision variables.\n",
    "\n",
    "(c) For the constraint 4x+5y ≤200, the boundary line for the feasible values of (x, y) that satisfies this constraint is given by 4x+5y=200.\n",
    "\n",
    "<details>\n",
    "<summary>Click To Show Answer</summary><br>\n",
    "(b) The feasible region is the set of all values of the decision variables that satisfies all the constraints, but that doesn’t mean that all these values are optimal for the given problem. Only one or some of these values would turn out to be optimal.\n",
    "</details>"
   ]
  }
 ],
 "metadata": {
  "kernelspec": {
   "display_name": "decision",
   "language": "python",
   "name": "python3"
  },
  "language_info": {
   "codemirror_mode": {
    "name": "ipython",
    "version": 3
   },
   "file_extension": ".py",
   "mimetype": "text/x-python",
   "name": "python",
   "nbconvert_exporter": "python",
   "pygments_lexer": "ipython3",
   "version": "3.10.9"
  },
  "orig_nbformat": 4
 },
 "nbformat": 4,
 "nbformat_minor": 2
}
